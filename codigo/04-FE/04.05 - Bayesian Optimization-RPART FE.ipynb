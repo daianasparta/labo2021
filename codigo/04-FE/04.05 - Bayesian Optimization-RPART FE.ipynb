{
 "cells": [
  {
   "cell_type": "code",
   "execution_count": 1,
   "id": "2092837f",
   "metadata": {},
   "outputs": [
    {
     "data": {
      "text/html": [
       "<table class=\"dataframe\">\n",
       "<caption>A matrix: 2 × 6 of type dbl</caption>\n",
       "<thead>\n",
       "\t<tr><th></th><th scope=col>used</th><th scope=col>(Mb)</th><th scope=col>gc trigger</th><th scope=col>(Mb)</th><th scope=col>max used</th><th scope=col>(Mb)</th></tr>\n",
       "</thead>\n",
       "<tbody>\n",
       "\t<tr><th scope=row>Ncells</th><td> 560288</td><td>30.0</td><td>1165498</td><td>62.3</td><td>1165498</td><td>62.3</td></tr>\n",
       "\t<tr><th scope=row>Vcells</th><td>1013370</td><td> 7.8</td><td>8388608</td><td>64.0</td><td>1650267</td><td>12.6</td></tr>\n",
       "</tbody>\n",
       "</table>\n"
      ],
      "text/latex": [
       "A matrix: 2 × 6 of type dbl\n",
       "\\begin{tabular}{r|llllll}\n",
       "  & used & (Mb) & gc trigger & (Mb) & max used & (Mb)\\\\\n",
       "\\hline\n",
       "\tNcells &  560288 & 30.0 & 1165498 & 62.3 & 1165498 & 62.3\\\\\n",
       "\tVcells & 1013370 &  7.8 & 8388608 & 64.0 & 1650267 & 12.6\\\\\n",
       "\\end{tabular}\n"
      ],
      "text/markdown": [
       "\n",
       "A matrix: 2 × 6 of type dbl\n",
       "\n",
       "| <!--/--> | used | (Mb) | gc trigger | (Mb) | max used | (Mb) |\n",
       "|---|---|---|---|---|---|---|\n",
       "| Ncells |  560288 | 30.0 | 1165498 | 62.3 | 1165498 | 62.3 |\n",
       "| Vcells | 1013370 |  7.8 | 8388608 | 64.0 | 1650267 | 12.6 |\n",
       "\n"
      ],
      "text/plain": [
       "       used    (Mb) gc trigger (Mb) max used (Mb)\n",
       "Ncells  560288 30.0 1165498    62.3 1165498  62.3\n",
       "Vcells 1013370  7.8 8388608    64.0 1650267  12.6"
      ]
     },
     "metadata": {},
     "output_type": "display_data"
    },
    {
     "name": "stderr",
     "output_type": "stream",
     "text": [
      "Loading required package: mlr\n",
      "\n",
      "Loading required package: ParamHelpers\n",
      "\n",
      "Warning message: 'mlr' is in 'maintenance-only' mode since July 2019.\n",
      "Future development will only happen in 'mlr3'\n",
      "(<https://mlr3.mlr-org.com>). Due to the focus on 'mlr3' there might be\n",
      "uncaught bugs meanwhile in {mlr} - please consider switching.\n",
      "\n",
      "Loading required package: smoof\n",
      "\n",
      "Loading required package: checkmate\n",
      "\n",
      "\n",
      "Attaching package: 'checkmate'\n",
      "\n",
      "\n",
      "The following object is masked from 'package:DiceKriging':\n",
      "\n",
      "    checkNames\n",
      "\n",
      "\n"
     ]
    }
   ],
   "source": [
    "#Optimizacion Bayesiana de hiperparametros de  rpart\n",
    "#funciona automaticamente con EXPERIMENTOS\n",
    "#va generando incrementalmente salidas para kaggle\n",
    "\n",
    "#limpio la memoria\n",
    "rm( list=ls() )  #remove all objects\n",
    "gc()             #garbage collection\n",
    "\n",
    "library(\"data.table\")\n",
    "library(\"rlist\")\n",
    "library(\"yaml\")\n",
    "\n",
    "library(\"rpart\")\n",
    "library(\"parallel\")\n",
    "\n",
    "#paquetes necesarios para la Bayesian Optimization\n",
    "library(\"DiceKriging\")\n",
    "library(\"mlrMBO\")"
   ]
  },
  {
   "cell_type": "code",
   "execution_count": 2,
   "id": "cdbf9f90",
   "metadata": {},
   "outputs": [],
   "source": [
    "#para poder usarlo en la PC y en la nube\n",
    "switch ( Sys.info()[['sysname']],\n",
    "         Windows = { directory.root   <-  \"C:/Users/Jonathan/Desktop/MCD - Laboratorio/7.Labo_1\" },   #Microsoft Windows\n",
    "         Darwin  = { directory.root   <-  \"~/dm/\" },  #Apple MAC\n",
    "         Linux   = { directory.root   <-  \"~/buckets/b1/crudo/\" }  #Entorno Google Cloud\n",
    "       )\n",
    "#defino la carpeta donde trabajo\n",
    "setwd( directory.root )"
   ]
  },
  {
   "cell_type": "code",
   "execution_count": 18,
   "id": "0b489a50",
   "metadata": {},
   "outputs": [],
   "source": [
    "kexperimento  <- NA   #NA si se corre la primera vez, un valor concreto si es para continuar procesando\n",
    "\n",
    "kscript           <- \"04.05 - BO Rpart FE\"\n",
    "karch_generacion  <- \"./datasets/paquete_premium_202011_ext.csv\"\n",
    "karch_aplicacion  <- \"./datasets/paquete_premium_202101_ext.csv\"\n",
    "kBO_iter    <-  90   #cantidad de iteraciones de la Optimizacion Bayesiana\n",
    "\n",
    "hs  <- makeParamSet(\n",
    "          makeNumericParam(\"cp\"       , lower= -1   , upper=    0.1),\n",
    "          makeIntegerParam(\"minsplit\" , lower=  1L  , upper= 8000L),  #la letra L al final significa ENTERO\n",
    "          makeIntegerParam(\"minbucket\", lower=  1L  , upper= 2000L),\n",
    "          makeIntegerParam(\"maxdepth\" , lower=  3L  , upper=   20L),\n",
    "          forbidden = quote( minbucket > 0.5*minsplit ) )\n",
    "\n",
    "\n",
    "ksemilla_azar  <- 100001"
   ]
  },
  {
   "cell_type": "code",
   "execution_count": 4,
   "id": "e7aaf742",
   "metadata": {},
   "outputs": [],
   "source": [
    "#------------------------------------------------------------------------------\n",
    "#Funcion que lleva el registro de los experimentos\n",
    "\n",
    "get_experimento  <- function()\n",
    "{\n",
    "  if( !file.exists( \"./maestro.yaml\" ) )  cat( file=\"./maestro.yaml\", \"experimento: 1000\" )\n",
    "\n",
    "  exp  <- read_yaml( \"./maestro.yaml\" )\n",
    "  experimento_actual  <- exp$experimento\n",
    "\n",
    "  exp$experimento  <- as.integer(exp$experimento + 1)\n",
    "  Sys.chmod( \"./maestro.yaml\", mode = \"0644\", use_umask = TRUE)\n",
    "  write_yaml( exp, \"./maestro.yaml\" )\n",
    "  Sys.chmod( \"./maestro.yaml\", mode = \"0444\", use_umask = TRUE) #dejo el archivo readonly\n",
    "\n",
    "  return( experimento_actual )\n",
    "}"
   ]
  },
  {
   "cell_type": "code",
   "execution_count": 5,
   "id": "416075a9",
   "metadata": {},
   "outputs": [],
   "source": [
    "#------------------------------------------------------------------------------\n",
    "#graba a un archivo los componentes de lista\n",
    "#para el primer registro, escribe antes los titulos\n",
    "\n",
    "loguear  <- function( reg, arch=NA, folder=\"./work/\", ext=\".txt\", verbose=TRUE )\n",
    "{\n",
    "  archivo  <- arch\n",
    "  if( is.na(arch) )  archivo  <- paste0(  folder, substitute( reg), ext )\n",
    "\n",
    "  if( !file.exists( archivo ) )  #Escribo los titulos\n",
    "  {\n",
    "    linea  <- paste0( \"fecha\\t\", \n",
    "                      paste( list.names(reg), collapse=\"\\t\" ), \"\\n\" )\n",
    "\n",
    "    cat( linea, file=archivo )\n",
    "  }\n",
    "\n",
    "  linea  <- paste0( format(Sys.time(), \"%Y%m%d %H%M%S\"),  \"\\t\",     #la fecha y hora\n",
    "                    gsub( \", \", \"\\t\", toString( reg ) ),  \"\\n\" )\n",
    "\n",
    "  cat( linea, file=archivo, append=TRUE )  #grabo al archivo\n",
    "\n",
    "  if( verbose )  cat( linea )   #imprimo por pantalla\n",
    "}"
   ]
  },
  {
   "cell_type": "code",
   "execution_count": 6,
   "id": "1e9841a2",
   "metadata": {},
   "outputs": [],
   "source": [
    "#------------------------------------------------------------------------------\n",
    "#funcion para particionar, es la que Andres reemplaza con caret\n",
    "\n",
    "particionar  <- function( data, division, agrupa=\"\", campo=\"fold\", start=1, seed=NA )\n",
    "{\n",
    "  if( !is.na( seed)  )   set.seed( seed )\n",
    "\n",
    "  bloque  <- unlist( mapply(  function(x,y) { rep( y, x ) }, division, seq( from=start, length.out=length(division) )  ) )\n",
    "\n",
    "  data[ , (campo) :=  sample( rep( bloque, ceiling(.N/length(bloque))) )[1:.N],\n",
    "           by= agrupa ]\n",
    "}\n",
    "#------------------------------------------------------------------------------"
   ]
  },
  {
   "cell_type": "code",
   "execution_count": 7,
   "id": "c1e1901e",
   "metadata": {},
   "outputs": [],
   "source": [
    "ArbolSimple  <- function( fold_test, data, param )\n",
    "{\n",
    "  #genero el modelo\n",
    "  modelo  <- rpart(\"clase_ternaria ~ .\", \n",
    "                   data= data[ fold != fold_test, ],\n",
    "                   xval= 0,\n",
    "                   control= param )\n",
    "\n",
    "  #aplico el modelo a los datos de testing, fold==2\n",
    "  prediccion  <- predict( modelo, data[ fold==fold_test, ], type = \"prob\")\n",
    "\n",
    "  prob_baja2  <- prediccion[, \"BAJA+2\"]\n",
    "\n",
    "  ganancia_testing  <- sum(  data[ fold==fold_test ][ prob_baja2 >0.025,  ifelse( clase_ternaria==\"BAJA+2\", 48750, -1250 ) ] )\n",
    "\n",
    "  return( ganancia_testing )\n",
    "}"
   ]
  },
  {
   "cell_type": "code",
   "execution_count": 21,
   "id": "3f25f951",
   "metadata": {},
   "outputs": [],
   "source": [
    "#------------------------------------------------------------------------------\n",
    "\n",
    "ArbolesCrossValidation  <- function( data, param, qfolds, pagrupa, semilla )\n",
    "{\n",
    "  divi  <- rep( 1, qfolds )\n",
    "  particionar( data, divi, seed=semilla, agrupa=pagrupa )\n",
    "\n",
    "  ganancias  <- mcmapply( ArbolSimple, \n",
    "                          seq(qfolds), # 1 2 3 4 5  \n",
    "                          MoreArgs= list( data, param), \n",
    "                          SIMPLIFY= FALSE,\n",
    "                          mc.cores= 1 )   #se puede subir a 5 si posee Linux o Mac OS\n",
    "\n",
    "  data[ , fold := NULL ]\n",
    "  #devuelvo la primer ganancia y el promedio\n",
    "  return( mean( unlist( ganancias )) *  qfolds )   #aqui normalizo la ganancia\n",
    "}"
   ]
  },
  {
   "cell_type": "code",
   "execution_count": 9,
   "id": "6ba36867",
   "metadata": {},
   "outputs": [],
   "source": [
    "#------------------------------------------------------------------------------\n",
    "#esta funcion solo puede recibir los parametros que se estan optimizando\n",
    "#el resto de los parametros se pasan como variables globales\n",
    "\n",
    "EstimarGanancia  <- function( x )\n",
    "{\n",
    "   GLOBAL_iteracion  <<-  GLOBAL_iteracion + 1\n",
    "\n",
    "   xval_folds  <- 5\n",
    "   ganancia  <-  ArbolesCrossValidation( dataset, param=x, qfolds= xval_folds, pagrupa=\"clase_ternaria\", semilla=ksemilla_azar )\n",
    "\n",
    "   #si tengo una ganancia superadora, genero el archivo para Kaggle\n",
    "   if(  ganancia > GLOBAL_ganancia_max )\n",
    "   {\n",
    "     GLOBAL_ganancia_max <<-  ganancia  #asigno la nueva maxima ganancia\n",
    "    \n",
    "     modelo  <- rpart(\"clase_ternaria ~ .\",\n",
    "                      data= dataset,\n",
    "                      xval= 0,\n",
    "                      control= x )\n",
    "\n",
    "     #genero el vector con la prediccion, la probabilidad de ser positivo\n",
    "     prediccion  <- predict( modelo, dapply)\n",
    "\n",
    "     prob_baja2  <- prediccion[, \"BAJA+2\"]\n",
    "     Predicted   <- ifelse( prob_baja2 > 0.025, 1, 0 )\n",
    "\n",
    "     entrega  <-  as.data.table( list( \"numero_de_cliente\"=dapply$numero_de_cliente, \"Predicted\"=Predicted)  )\n",
    "\n",
    "     #genero el archivo para Kaggle\n",
    "     fwrite( entrega, \n",
    "             file= paste0(kkaggle, GLOBAL_iteracion, \".csv\" ),\n",
    "             sep=  \",\" )\n",
    "   }\n",
    "\n",
    "   #logueo \n",
    "   xx  <- x\n",
    "   xx$xval_folds  <-  xval_folds\n",
    "   xx$ganancia  <- ganancia\n",
    "   loguear( xx,  arch= klog )\n",
    "\n",
    "\n",
    "   return( ganancia )\n",
    "}\n",
    "#------------------------------------------------------------------------------"
   ]
  },
  {
   "cell_type": "code",
   "execution_count": 11,
   "id": "3bdbd4cb",
   "metadata": {},
   "outputs": [
    {
     "data": {
      "text/html": [
       "1001"
      ],
      "text/latex": [
       "1001"
      ],
      "text/markdown": [
       "1001"
      ],
      "text/plain": [
       "[1] 1001"
      ]
     },
     "metadata": {},
     "output_type": "display_data"
    }
   ],
   "source": [
    "#Aqui empieza el programa\n",
    "\n",
    "if( is.na(kexperimento ) )   kexperimento <- get_experimento()  #creo el experimento"
   ]
  },
  {
   "cell_type": "code",
   "execution_count": 12,
   "id": "57f2a412",
   "metadata": {},
   "outputs": [],
   "source": [
    "#en estos archivos quedan los resultados\n",
    "kbayesiana  <- paste0(\"./work/E\",  kexperimento, \"_rpart.RDATA\" )\n",
    "klog        <- paste0(\"./work/E\",  kexperimento, \"_rpart_log.txt\" )\n",
    "kkaggle     <- paste0(\"./kaggle/E\",kexperimento, \"_rpart_kaggle_\" )"
   ]
  },
  {
   "cell_type": "code",
   "execution_count": 13,
   "id": "a555476f",
   "metadata": {},
   "outputs": [],
   "source": [
    "GLOBAL_ganancia_max  <-  -Inf\n",
    "GLOBAL_iteracion  <- 0"
   ]
  },
  {
   "cell_type": "code",
   "execution_count": 14,
   "id": "3a9bbab8",
   "metadata": {},
   "outputs": [],
   "source": [
    "if( file.exists(klog) )\n",
    "{\n",
    " tabla_log  <- fread( klog)\n",
    " GLOBAL_iteracion  <- nrow( tabla_log ) -1\n",
    " GLOBAL_ganancia_max  <-  tabla_log[ , max(ganancia) ]\n",
    "}"
   ]
  },
  {
   "cell_type": "code",
   "execution_count": 15,
   "id": "81cc80f4",
   "metadata": {},
   "outputs": [],
   "source": [
    "#cargo los datasets\n",
    "dataset  <- fread(karch_generacion)   #donde entreno\n",
    "dapply  <- fread(karch_aplicacion)    #donde aplico el modelo"
   ]
  },
  {
   "cell_type": "code",
   "execution_count": 19,
   "id": "c81db6a6",
   "metadata": {},
   "outputs": [],
   "source": [
    "#Aqui comienza la configuracion de la Bayesian Optimization\n",
    "\n",
    "configureMlr( show.learner.output = FALSE)\n",
    "\n",
    "funcion_optimizar  <- EstimarGanancia\n",
    "\n",
    "#configuro la busqueda bayesiana,  los hiperparametros que se van a optimizar\n",
    "#por favor, no desesperarse por lo complejo\n",
    "obj.fun  <- makeSingleObjectiveFunction(\n",
    "              fn=       funcion_optimizar,\n",
    "              minimize= FALSE,   #estoy Maximizando la ganancia\n",
    "              noisy=    TRUE,\n",
    "              par.set=  hs,\n",
    "              has.simple.signature = FALSE\n",
    "             )\n",
    "\n",
    "ctrl  <- makeMBOControl( save.on.disk.at.time= 600,  save.file.path= kbayesiana)\n",
    "ctrl  <- setMBOControlTermination(ctrl, iters= kBO_iter )\n",
    "ctrl  <- setMBOControlInfill(ctrl, crit= makeMBOInfillCritEI())\n",
    "\n",
    "surr.km  <-  makeLearner(\"regr.km\", predict.type= \"se\", covtype= \"matern3_2\", control= list(trace= TRUE))"
   ]
  },
  {
   "cell_type": "code",
   "execution_count": 22,
   "id": "9383ca74",
   "metadata": {},
   "outputs": [
    {
     "name": "stderr",
     "output_type": "stream",
     "text": [
      "Computing y column(s) for design. Not provided.\n",
      "\n"
     ]
    },
    {
     "name": "stdout",
     "output_type": "stream",
     "text": [
      "20210924 170921\t-0.0976199316675774\t1235\t381\t10\t5\t8212500\n",
      "20210924 171146\t-0.223040826257784\t4764\t355\t13\t5\t7515000\n",
      "20210924 171348\t-0.726423298436566\t5895\t1276\t20\t5\t6757500\n",
      "20210924 171538\t-0.547949130124471\t3773\t715\t8\t5\t7460000\n",
      "20210924 171738\t-0.29003388373967\t7122\t1169\t12\t5\t7371250\n",
      "20210924 172035\t-0.14742603412742\t6077\t21\t17\t5\t6932500\n",
      "20210924 172231\t-0.601270701251633\t5210\t1914\t14\t5\t7200000\n",
      "20210924 172333\t-0.488527758760029\t7643\t955\t4\t5\t7488750\n",
      "20210924 172534\t-0.912083183937648\t3087\t593\t10\t5\t7692500\n",
      "20210924 172634\t0.0585211833007635\t2187\t248\t9\t5\t0\n",
      "20210924 172746\t-0.946035111416131\t6595\t1784\t5\t5\t6751250\n",
      "20210924 172957\t-0.341571937302069\t4478\t1073\t19\t5\t7237500\n",
      "20210924 173211\t-0.267447549273493\t6772\t702\t20\t5\t7342500\n",
      "20210924 173346\t-0.0882436665066052\t3398\t192\t7\t5\t7441250\n",
      "20210924 173508\t-0.643912304326659\t5388\t1841\t6\t5\t6893750\n",
      "20210924 173830\t-0.526583998673595\t1213\t6\t17\t5\t6913750\n"
     ]
    },
    {
     "name": "stderr",
     "output_type": "stream",
     "text": [
      "[mbo] 0: cp=-0.0976; minsplit=1235; minbucket=381; maxdepth=10 : y = 8.21e+06 : 172.0 secs : initdesign\n",
      "\n",
      "[mbo] 0: cp=-0.223; minsplit=4764; minbucket=355; maxdepth=13 : y = 7.52e+06 : 144.8 secs : initdesign\n",
      "\n",
      "[mbo] 0: cp=-0.726; minsplit=5895; minbucket=1276; maxdepth=20 : y = 6.76e+06 : 122.4 secs : initdesign\n",
      "\n",
      "[mbo] 0: cp=-0.548; minsplit=3773; minbucket=715; maxdepth=8 : y = 7.46e+06 : 109.9 secs : initdesign\n",
      "\n",
      "[mbo] 0: cp=-0.29; minsplit=7122; minbucket=1169; maxdepth=12 : y = 7.37e+06 : 119.5 secs : initdesign\n",
      "\n",
      "[mbo] 0: cp=-0.147; minsplit=6077; minbucket=21; maxdepth=17 : y = 6.93e+06 : 177.5 secs : initdesign\n",
      "\n",
      "[mbo] 0: cp=-0.601; minsplit=5210; minbucket=1914; maxdepth=14 : y = 7.2e+06 : 116.1 secs : initdesign\n",
      "\n",
      "[mbo] 0: cp=-0.489; minsplit=7643; minbucket=955; maxdepth=4 : y = 7.49e+06 : 61.7 secs : initdesign\n",
      "\n",
      "[mbo] 0: cp=-0.912; minsplit=3087; minbucket=593; maxdepth=10 : y = 7.69e+06 : 120.9 secs : initdesign\n",
      "\n",
      "[mbo] 0: cp=0.0585; minsplit=2187; minbucket=248; maxdepth=9 : y = 0 : 60.1 secs : initdesign\n",
      "\n",
      "[mbo] 0: cp=-0.946; minsplit=6595; minbucket=1784; maxdepth=5 : y = 6.75e+06 : 72.5 secs : initdesign\n",
      "\n",
      "[mbo] 0: cp=-0.342; minsplit=4478; minbucket=1073; maxdepth=19 : y = 7.24e+06 : 130.5 secs : initdesign\n",
      "\n",
      "[mbo] 0: cp=-0.267; minsplit=6772; minbucket=702; maxdepth=20 : y = 7.34e+06 : 133.6 secs : initdesign\n",
      "\n",
      "[mbo] 0: cp=-0.0882; minsplit=3398; minbucket=192; maxdepth=7 : y = 7.44e+06 : 95.0 secs : initdesign\n",
      "\n",
      "[mbo] 0: cp=-0.644; minsplit=5388; minbucket=1841; maxdepth=6 : y = 6.89e+06 : 82.8 secs : initdesign\n",
      "\n",
      "[mbo] 0: cp=-0.527; minsplit=1213; minbucket=6; maxdepth=17 : y = 6.91e+06 : 201.9 secs : initdesign\n",
      "\n",
      "Saved the current state after iteration 1 in the file ./work/E1001_rpart.RDATA.\n",
      "\n"
     ]
    },
    {
     "name": "stdout",
     "output_type": "stream",
     "text": [
      "20210924 173919\t0.0998450988050043\t7617\t1968\t10\t5\t0\n"
     ]
    },
    {
     "name": "stderr",
     "output_type": "stream",
     "text": [
      "[mbo] 1: cp=0.0998; minsplit=7617; minbucket=1968; maxdepth=10 : y = 0 : 45.9 secs : infill_ei\n",
      "\n"
     ]
    },
    {
     "name": "stdout",
     "output_type": "stream",
     "text": [
      "20210924 174138\t-0.995942698051898\t75\t35\t10\t5\t5895000\n"
     ]
    },
    {
     "name": "stderr",
     "output_type": "stream",
     "text": [
      "[mbo] 2: cp=-0.996; minsplit=75; minbucket=35; maxdepth=10 : y = 5.9e+06 : 137.7 secs : infill_ei\n",
      "\n"
     ]
    },
    {
     "name": "stdout",
     "output_type": "stream",
     "text": [
      "20210924 174311\t-0.605993369737989\t3347\t1323\t5\t5\t7372500\n"
     ]
    },
    {
     "name": "stderr",
     "output_type": "stream",
     "text": [
      "[mbo] 3: cp=-0.606; minsplit=3347; minbucket=1323; maxdepth=5 : y = 7.37e+06 : 91.3 secs : infill_ei\n",
      "\n"
     ]
    },
    {
     "name": "stdout",
     "output_type": "stream",
     "text": [
      "20210924 174400\t0.0974454266459158\t7998\t452\t10\t5\t0\n"
     ]
    },
    {
     "name": "stderr",
     "output_type": "stream",
     "text": [
      "[mbo] 4: cp=0.0974; minsplit=7998; minbucket=452; maxdepth=10 : y = 0 : 46.8 secs : infill_ei\n",
      "\n"
     ]
    },
    {
     "name": "stdout",
     "output_type": "stream",
     "text": [
      "20210924 174506\t-0.139327841046156\t174\t81\t4\t5\t8017500\n"
     ]
    },
    {
     "name": "stderr",
     "output_type": "stream",
     "text": [
      "[mbo] 5: cp=-0.139; minsplit=174; minbucket=81; maxdepth=4 : y = 8.02e+06 : 64.1 secs : infill_ei\n",
      "\n"
     ]
    },
    {
     "name": "stdout",
     "output_type": "stream",
     "text": [
      "20210924 174737\t-0.142461231393136\t1329\t664\t7\t5\t8413750\n"
     ]
    },
    {
     "name": "stderr",
     "output_type": "stream",
     "text": [
      "[mbo] 6: cp=-0.142; minsplit=1329; minbucket=664; maxdepth=7 : y = 8.41e+06 : 148.5 secs : infill_ei\n",
      "\n"
     ]
    },
    {
     "name": "stdout",
     "output_type": "stream",
     "text": [
      "20210924 175026\t-0.129075567771475\t1380\t686\t20\t5\t8407500\n"
     ]
    },
    {
     "name": "stderr",
     "output_type": "stream",
     "text": [
      "[mbo] 7: cp=-0.129; minsplit=1380; minbucket=686; maxdepth=20 : y = 8.41e+06 : 164.7 secs : infill_ei\n",
      "\n",
      "Saved the current state after iteration 8 in the file ./work/E1001_rpart.RDATA.\n",
      "\n"
     ]
    },
    {
     "name": "stdout",
     "output_type": "stream",
     "text": [
      "20210924 180045\t-0.137781396967325\t877\t435\t14\t5\t8445000\n"
     ]
    },
    {
     "name": "stderr",
     "output_type": "stream",
     "text": [
      "[mbo] 8: cp=-0.138; minsplit=877; minbucket=435; maxdepth=14 : y = 8.44e+06 : 615.6 secs : infill_ei\n",
      "\n",
      "Saved the current state after iteration 9 in the file ./work/E1001_rpart.RDATA.\n",
      "\n"
     ]
    },
    {
     "name": "stdout",
     "output_type": "stream",
     "text": [
      "20210924 180447\t-0.191965974847583\t1943\t964\t16\t5\t8107500\n"
     ]
    },
    {
     "name": "stderr",
     "output_type": "stream",
     "text": [
      "[mbo] 9: cp=-0.192; minsplit=1943; minbucket=964; maxdepth=16 : y = 8.11e+06 : 233.2 secs : infill_ei\n",
      "\n"
     ]
    },
    {
     "name": "stdout",
     "output_type": "stream",
     "text": [
      "20210924 180544\t-0.272288996293994\t1403\t695\t3\t5\t7727500\n"
     ]
    },
    {
     "name": "stderr",
     "output_type": "stream",
     "text": [
      "[mbo] 10: cp=-0.272; minsplit=1403; minbucket=695; maxdepth=3 : y = 7.73e+06 : 54.3 secs : infill_ei\n",
      "\n"
     ]
    },
    {
     "name": "stdout",
     "output_type": "stream",
     "text": [
      "20210924 180639\t-0.849080251613088\t7647\t711\t3\t5\t7490000\n"
     ]
    },
    {
     "name": "stderr",
     "output_type": "stream",
     "text": [
      "[mbo] 11: cp=-0.849; minsplit=7647; minbucket=711; maxdepth=3 : y = 7.49e+06 : 53.4 secs : infill_ei\n",
      "\n"
     ]
    },
    {
     "name": "stdout",
     "output_type": "stream",
     "text": [
      "20210924 180736\t-0.120278219671803\t982\t476\t3\t5\t7727500\n"
     ]
    },
    {
     "name": "stderr",
     "output_type": "stream",
     "text": [
      "[mbo] 12: cp=-0.12; minsplit=982; minbucket=476; maxdepth=3 : y = 7.73e+06 : 54.0 secs : infill_ei\n",
      "\n"
     ]
    },
    {
     "name": "stdout",
     "output_type": "stream",
     "text": [
      "20210924 181007\t-0.159883735791514\t1374\t681\t12\t5\t8402500\n"
     ]
    },
    {
     "name": "stderr",
     "output_type": "stream",
     "text": [
      "[mbo] 13: cp=-0.16; minsplit=1374; minbucket=681; maxdepth=12 : y = 8.4e+06 : 147.4 secs : infill_ei\n",
      "\n"
     ]
    },
    {
     "name": "stdout",
     "output_type": "stream",
     "text": [
      "20210924 181247\t-0.132749391027893\t1746\t873\t12\t5\t8282500\n"
     ]
    },
    {
     "name": "stderr",
     "output_type": "stream",
     "text": [
      "[mbo] 14: cp=-0.133; minsplit=1746; minbucket=873; maxdepth=12 : y = 8.28e+06 : 157.7 secs : infill_ei\n",
      "\n",
      "Saved the current state after iteration 15 in the file ./work/E1001_rpart.RDATA.\n",
      "\n"
     ]
    },
    {
     "name": "stdout",
     "output_type": "stream",
     "text": [
      "20210924 181454\t-0.850343001425459\t2262\t1120\t7\t5\t7860000\n"
     ]
    },
    {
     "name": "stderr",
     "output_type": "stream",
     "text": [
      "[mbo] 15: cp=-0.85; minsplit=2262; minbucket=1120; maxdepth=7 : y = 7.86e+06 : 124.1 secs : infill_ei\n",
      "\n"
     ]
    },
    {
     "name": "stdout",
     "output_type": "stream",
     "text": [
      "20210924 181950\t-0.852477668109697\t4029\t1\t20\t5\t7005000\n"
     ]
    },
    {
     "name": "stderr",
     "output_type": "stream",
     "text": [
      "[mbo] 16: cp=-0.852; minsplit=4029; minbucket=1; maxdepth=20 : y = 7e+06 : 292.1 secs : infill_ei\n",
      "\n"
     ]
    },
    {
     "name": "stdout",
     "output_type": "stream",
     "text": [
      "20210924 182049\t-0.787639021755212\t1214\t565\t3\t5\t7727500\n"
     ]
    },
    {
     "name": "stderr",
     "output_type": "stream",
     "text": [
      "[mbo] 17: cp=-0.788; minsplit=1214; minbucket=565; maxdepth=3 : y = 7.73e+06 : 56.3 secs : infill_ei\n",
      "\n"
     ]
    },
    {
     "name": "stdout",
     "output_type": "stream",
     "text": [
      "20210924 182435\t-0.108276311326878\t102\t48\t20\t5\t3546250\n"
     ]
    },
    {
     "name": "stderr",
     "output_type": "stream",
     "text": [
      "[mbo] 18: cp=-0.108; minsplit=102; minbucket=48; maxdepth=20 : y = 3.55e+06 : 223.8 secs : infill_ei\n",
      "\n",
      "Saved the current state after iteration 19 in the file ./work/E1001_rpart.RDATA.\n",
      "\n"
     ]
    },
    {
     "name": "stdout",
     "output_type": "stream",
     "text": [
      "20210924 182701\t-0.137916908364502\t4257\t692\t17\t5\t7515000\n"
     ]
    },
    {
     "name": "stderr",
     "output_type": "stream",
     "text": [
      "[mbo] 19: cp=-0.138; minsplit=4257; minbucket=692; maxdepth=17 : y = 7.52e+06 : 143.8 secs : infill_ei\n",
      "\n"
     ]
    },
    {
     "name": "stdout",
     "output_type": "stream",
     "text": [
      "20210924 182903\t-0.142151737346947\t1262\t395\t9\t5\t8326250\n"
     ]
    },
    {
     "name": "stderr",
     "output_type": "stream",
     "text": [
      "[mbo] 20: cp=-0.142; minsplit=1262; minbucket=395; maxdepth=9 : y = 8.33e+06 : 120.8 secs : infill_ei\n",
      "\n"
     ]
    },
    {
     "name": "stdout",
     "output_type": "stream",
     "text": [
      "20210924 183023\t-0.290826774185199\t7408\t1\t5\t5\t7356250\n"
     ]
    },
    {
     "name": "stderr",
     "output_type": "stream",
     "text": [
      "[mbo] 21: cp=-0.291; minsplit=7408; minbucket=1; maxdepth=5 : y = 7.36e+06 : 78.1 secs : infill_ei\n",
      "\n"
     ]
    },
    {
     "name": "stdout",
     "output_type": "stream",
     "text": [
      "20210924 183318\t-0.795297938109271\t4165\t687\t12\t5\t7562500\n"
     ]
    },
    {
     "name": "stderr",
     "output_type": "stream",
     "text": [
      "[mbo] 22: cp=-0.795; minsplit=4165; minbucket=687; maxdepth=12 : y = 7.56e+06 : 173.7 secs : infill_ei\n",
      "\n"
     ]
    },
    {
     "name": "stdout",
     "output_type": "stream",
     "text": [
      "20210924 183600\t-0.419718171441676\t2449\t1224\t7\t5\t7991250\n"
     ]
    },
    {
     "name": "stderr",
     "output_type": "stream",
     "text": [
      "[mbo] 23: cp=-0.42; minsplit=2449; minbucket=1224; maxdepth=7 : y = 7.99e+06 : 157.1 secs : infill_ei\n",
      "\n",
      "Saved the current state after iteration 24 in the file ./work/E1001_rpart.RDATA.\n",
      "\n"
     ]
    },
    {
     "name": "stdout",
     "output_type": "stream",
     "text": [
      "20210924 184043\t-0.129534474253067\t1290\t642\t14\t5\t8433750\n"
     ]
    },
    {
     "name": "stderr",
     "output_type": "stream",
     "text": [
      "[mbo] 24: cp=-0.13; minsplit=1290; minbucket=642; maxdepth=14 : y = 8.43e+06 : 274.0 secs : infill_ei\n",
      "\n"
     ]
    },
    {
     "name": "stdout",
     "output_type": "stream",
     "text": [
      "20210924 184758\t-0.157580013641927\t1832\t912\t20\t5\t8057500\n"
     ]
    },
    {
     "name": "stderr",
     "output_type": "stream",
     "text": [
      "[mbo] 25: cp=-0.158; minsplit=1832; minbucket=912; maxdepth=20 : y = 8.06e+06 : 430.6 secs : infill_ei\n",
      "\n",
      "Saved the current state after iteration 26 in the file ./work/E1001_rpart.RDATA.\n",
      "\n"
     ]
    },
    {
     "name": "stdout",
     "output_type": "stream",
     "text": [
      "20210924 190059\t-0.295774324681148\t1046\t519\t15\t5\t8145000\n"
     ]
    },
    {
     "name": "stderr",
     "output_type": "stream",
     "text": [
      "[mbo] 26: cp=-0.296; minsplit=1046; minbucket=519; maxdepth=15 : y = 8.14e+06 : 764.9 secs : infill_ei\n",
      "\n",
      "Saved the current state after iteration 27 in the file ./work/E1001_rpart.RDATA.\n",
      "\n"
     ]
    },
    {
     "name": "stdout",
     "output_type": "stream",
     "text": [
      "20210924 190257\t-0.41486299547271\t199\t99\t4\t5\t8007500\n"
     ]
    },
    {
     "name": "stderr",
     "output_type": "stream",
     "text": [
      "[mbo] 27: cp=-0.415; minsplit=199; minbucket=99; maxdepth=4 : y = 8.01e+06 : 111.7 secs : infill_ei\n",
      "\n"
     ]
    },
    {
     "name": "stdout",
     "output_type": "stream",
     "text": [
      "20210924 190654\t-0.419301219040058\t7868\t235\t14\t5\t7488750\n"
     ]
    },
    {
     "name": "stderr",
     "output_type": "stream",
     "text": [
      "[mbo] 28: cp=-0.419; minsplit=7868; minbucket=235; maxdepth=14 : y = 7.49e+06 : 235.1 secs : infill_ei\n",
      "\n"
     ]
    },
    {
     "name": "stdout",
     "output_type": "stream",
     "text": [
      "20210924 190931\t-0.385486333696416\t1548\t769\t8\t5\t8360000\n"
     ]
    },
    {
     "name": "stderr",
     "output_type": "stream",
     "text": [
      "[mbo] 29: cp=-0.385; minsplit=1548; minbucket=769; maxdepth=8 : y = 8.36e+06 : 153.0 secs : infill_ei\n",
      "\n"
     ]
    },
    {
     "name": "stdout",
     "output_type": "stream",
     "text": [
      "20210924 191101\t-0.681593563159089\t5546\t1\t5\t5\t7035000\n"
     ]
    },
    {
     "name": "stderr",
     "output_type": "stream",
     "text": [
      "[mbo] 30: cp=-0.682; minsplit=5546; minbucket=1; maxdepth=5 : y = 7.04e+06 : 88.5 secs : infill_ei\n",
      "\n",
      "Saved the current state after iteration 31 in the file ./work/E1001_rpart.RDATA.\n",
      "\n"
     ]
    },
    {
     "name": "stdout",
     "output_type": "stream",
     "text": [
      "20210924 191424\t-0.44508143023647\t1643\t820\t14\t5\t8306250\n"
     ]
    },
    {
     "name": "stderr",
     "output_type": "stream",
     "text": [
      "[mbo] 31: cp=-0.445; minsplit=1643; minbucket=820; maxdepth=14 : y = 8.31e+06 : 199.5 secs : infill_ei\n",
      "\n"
     ]
    },
    {
     "name": "stdout",
     "output_type": "stream",
     "text": [
      "20210924 191655\t-0.252752749141003\t2079\t1039\t7\t5\t8123750\n"
     ]
    },
    {
     "name": "stderr",
     "output_type": "stream",
     "text": [
      "[mbo] 32: cp=-0.253; minsplit=2079; minbucket=1039; maxdepth=7 : y = 8.12e+06 : 148.0 secs : infill_ei\n",
      "\n"
     ]
    },
    {
     "name": "stdout",
     "output_type": "stream",
     "text": [
      "20210924 192108\t-0.410107162685431\t1187\t590\t20\t5\t8390000\n"
     ]
    },
    {
     "name": "stderr",
     "output_type": "stream",
     "text": [
      "[mbo] 33: cp=-0.41; minsplit=1187; minbucket=590; maxdepth=20 : y = 8.39e+06 : 249.5 secs : infill_ei\n",
      "\n",
      "Saved the current state after iteration 34 in the file ./work/E1001_rpart.RDATA.\n",
      "\n"
     ]
    },
    {
     "name": "stdout",
     "output_type": "stream",
     "text": [
      "20210924 192514\t-0.426903475000995\t885\t442\t12\t5\t8331250\n"
     ]
    },
    {
     "name": "stderr",
     "output_type": "stream",
     "text": [
      "[mbo] 34: cp=-0.427; minsplit=885; minbucket=442; maxdepth=12 : y = 8.33e+06 : 241.8 secs : infill_ei\n",
      "\n"
     ]
    },
    {
     "name": "stdout",
     "output_type": "stream",
     "text": [
      "20210924 192857\t-0.639733462154991\t1173\t584\t20\t5\t8223750\n"
     ]
    },
    {
     "name": "stderr",
     "output_type": "stream",
     "text": [
      "[mbo] 35: cp=-0.64; minsplit=1173; minbucket=584; maxdepth=20 : y = 8.22e+06 : 218.4 secs : infill_ei\n",
      "\n"
     ]
    },
    {
     "name": "stdout",
     "output_type": "stream",
     "text": [
      "20210924 193340\t-0.871454736212486\t1550\t775\t20\t5\t8451250\n"
     ]
    },
    {
     "name": "stderr",
     "output_type": "stream",
     "text": [
      "[mbo] 36: cp=-0.871; minsplit=1550; minbucket=775; maxdepth=20 : y = 8.45e+06 : 278.4 secs : infill_ei\n",
      "\n",
      "Saved the current state after iteration 37 in the file ./work/E1001_rpart.RDATA.\n",
      "\n"
     ]
    },
    {
     "name": "stdout",
     "output_type": "stream",
     "text": [
      "20210924 193703\t-0.999472880906485\t2194\t1096\t20\t5\t8338750\n"
     ]
    },
    {
     "name": "stderr",
     "output_type": "stream",
     "text": [
      "[mbo] 37: cp=-0.999; minsplit=2194; minbucket=1096; maxdepth=20 : y = 8.34e+06 : 196.5 secs : infill_ei\n",
      "\n"
     ]
    },
    {
     "name": "stdout",
     "output_type": "stream",
     "text": [
      "20210924 194030\t-0.95989211932416\t6892\t908\t20\t5\t7095000\n"
     ]
    },
    {
     "name": "stderr",
     "output_type": "stream",
     "text": [
      "[mbo] 38: cp=-0.96; minsplit=6892; minbucket=908; maxdepth=20 : y = 7.1e+06 : 204.6 secs : infill_ei\n",
      "\n"
     ]
    },
    {
     "name": "stdout",
     "output_type": "stream",
     "text": [
      "20210924 194313\t-0.917689888163478\t2964\t1482\t20\t5\t7712500\n"
     ]
    },
    {
     "name": "stderr",
     "output_type": "stream",
     "text": [
      "[mbo] 39: cp=-0.918; minsplit=2964; minbucket=1482; maxdepth=20 : y = 7.71e+06 : 158.5 secs : infill_ei\n",
      "\n"
     ]
    },
    {
     "name": "stdout",
     "output_type": "stream",
     "text": [
      "20210924 194701\t-0.929552303819981\t1972\t985\t16\t5\t8275000\n"
     ]
    },
    {
     "name": "stderr",
     "output_type": "stream",
     "text": [
      "[mbo] 40: cp=-0.93; minsplit=1972; minbucket=985; maxdepth=16 : y = 8.28e+06 : 225.4 secs : infill_ei\n",
      "\n",
      "Saved the current state after iteration 41 in the file ./work/E1001_rpart.RDATA.\n",
      "\n"
     ]
    },
    {
     "name": "stdout",
     "output_type": "stream",
     "text": [
      "20210924 195007\t-0.779273582656949\t910\t454\t20\t5\t7831250\n"
     ]
    },
    {
     "name": "stderr",
     "output_type": "stream",
     "text": [
      "[mbo] 41: cp=-0.779; minsplit=910; minbucket=454; maxdepth=20 : y = 7.83e+06 : 181.5 secs : infill_ei\n",
      "\n"
     ]
    },
    {
     "name": "stdout",
     "output_type": "stream",
     "text": [
      "20210924 195110\t-0.999943549741866\t1966\t980\t3\t5\t7701250\n"
     ]
    },
    {
     "name": "stderr",
     "output_type": "stream",
     "text": [
      "[mbo] 42: cp=-1; minsplit=1966; minbucket=980; maxdepth=3 : y = 7.7e+06 : 59.4 secs : infill_ei\n",
      "\n"
     ]
    },
    {
     "name": "stdout",
     "output_type": "stream",
     "text": [
      "20210924 195410\t-0.504122354140672\t1311\t653\t20\t5\t8338750\n"
     ]
    },
    {
     "name": "stderr",
     "output_type": "stream",
     "text": [
      "[mbo] 43: cp=-0.504; minsplit=1311; minbucket=653; maxdepth=20 : y = 8.34e+06 : 178.7 secs : infill_ei\n",
      "\n"
     ]
    },
    {
     "name": "stdout",
     "output_type": "stream",
     "text": [
      "20210924 195654\t-0.457252288032311\t7999\t1631\t12\t5\t6505000\n"
     ]
    },
    {
     "name": "stderr",
     "output_type": "stream",
     "text": [
      "[mbo] 44: cp=-0.457; minsplit=7999; minbucket=1631; maxdepth=12 : y = 6.5e+06 : 160.9 secs : infill_ei\n",
      "\n"
     ]
    },
    {
     "name": "stdout",
     "output_type": "stream",
     "text": [
      "20210924 200157\t-0.997749259213042\t1446\t723\t20\t5\t8682500\n"
     ]
    },
    {
     "name": "stderr",
     "output_type": "stream",
     "text": [
      "[mbo] 45: cp=-0.998; minsplit=1446; minbucket=723; maxdepth=20 : y = 8.68e+06 : 298.5 secs : infill_ei\n",
      "\n",
      "Saved the current state after iteration 46 in the file ./work/E1001_rpart.RDATA.\n",
      "\n"
     ]
    },
    {
     "name": "stdout",
     "output_type": "stream",
     "text": [
      "20210924 200348\t-0.136216450581091\t7993\t1\t6\t5\t7345000\n"
     ]
    },
    {
     "name": "stderr",
     "output_type": "stream",
     "text": [
      "[mbo] 46: cp=-0.136; minsplit=7993; minbucket=1; maxdepth=6 : y = 7.34e+06 : 107.2 secs : infill_ei\n",
      "\n"
     ]
    },
    {
     "name": "stdout",
     "output_type": "stream",
     "text": [
      "20210924 200629\t-0.830109138088549\t4001\t2000\t17\t5\t7170000\n"
     ]
    },
    {
     "name": "stderr",
     "output_type": "stream",
     "text": [
      "[mbo] 47: cp=-0.83; minsplit=4001; minbucket=2000; maxdepth=17 : y = 7.17e+06 : 158.0 secs : infill_ei\n",
      "\n"
     ]
    },
    {
     "name": "stdout",
     "output_type": "stream",
     "text": [
      "20210924 200947\t-0.617928423205878\t7998\t396\t20\t5\t7488750\n"
     ]
    },
    {
     "name": "stderr",
     "output_type": "stream",
     "text": [
      "[mbo] 48: cp=-0.618; minsplit=7998; minbucket=396; maxdepth=20 : y = 7.49e+06 : 195.0 secs : infill_ei\n",
      "\n"
     ]
    },
    {
     "name": "stdout",
     "output_type": "stream",
     "text": [
      "20210924 201310\t-0.948198212088812\t1355\t677\t20\t5\t8305000\n"
     ]
    },
    {
     "name": "stderr",
     "output_type": "stream",
     "text": [
      "[mbo] 49: cp=-0.948; minsplit=1355; minbucket=677; maxdepth=20 : y = 8.3e+06 : 199.6 secs : infill_ei\n",
      "\n",
      "Saved the current state after iteration 50 in the file ./work/E1001_rpart.RDATA.\n",
      "\n"
     ]
    },
    {
     "name": "stdout",
     "output_type": "stream",
     "text": [
      "20210924 201627\t-0.999748009427815\t1620\t810\t17\t5\t8395000\n"
     ]
    },
    {
     "name": "stderr",
     "output_type": "stream",
     "text": [
      "[mbo] 50: cp=-1; minsplit=1620; minbucket=810; maxdepth=17 : y = 8.4e+06 : 194.5 secs : infill_ei\n",
      "\n"
     ]
    },
    {
     "name": "stdout",
     "output_type": "stream",
     "text": [
      "20210924 201948\t-0.595804688383635\t2011\t1003\t20\t5\t8300000\n"
     ]
    },
    {
     "name": "stderr",
     "output_type": "stream",
     "text": [
      "[mbo] 51: cp=-0.596; minsplit=2011; minbucket=1003; maxdepth=20 : y = 8.3e+06 : 196.0 secs : infill_ei\n",
      "\n"
     ]
    },
    {
     "name": "stdout",
     "output_type": "stream",
     "text": [
      "20210924 202319\t-0.70013412190238\t1846\t920\t16\t5\t8126250\n"
     ]
    },
    {
     "name": "stderr",
     "output_type": "stream",
     "text": [
      "[mbo] 52: cp=-0.7; minsplit=1846; minbucket=920; maxdepth=16 : y = 8.13e+06 : 208.2 secs : infill_ei\n",
      "\n",
      "Saved the current state after iteration 53 in the file ./work/E1001_rpart.RDATA.\n",
      "\n"
     ]
    },
    {
     "name": "stdout",
     "output_type": "stream",
     "text": [
      "20210924 202750\t-0.99996384285498\t3122\t545\t20\t5\t7692500\n"
     ]
    },
    {
     "name": "stderr",
     "output_type": "stream",
     "text": [
      "[mbo] 53: cp=-1; minsplit=3122; minbucket=545; maxdepth=20 : y = 7.69e+06 : 267.1 secs : infill_ei\n",
      "\n"
     ]
    },
    {
     "name": "stdout",
     "output_type": "stream",
     "text": [
      "20210924 203125\t-0.600347275619425\t629\t314\t6\t5\t8902500\n"
     ]
    },
    {
     "name": "stderr",
     "output_type": "stream",
     "text": [
      "[mbo] 54: cp=-0.6; minsplit=629; minbucket=314; maxdepth=6 : y = 8.9e+06 : 208.7 secs : infill_ei\n",
      "\n"
     ]
    },
    {
     "name": "stdout",
     "output_type": "stream",
     "text": [
      "20210924 203306\t-0.567078381118041\t549\t274\t3\t5\t7727500\n"
     ]
    },
    {
     "name": "stderr",
     "output_type": "stream",
     "text": [
      "[mbo] 55: cp=-0.567; minsplit=549; minbucket=274; maxdepth=3 : y = 7.73e+06 : 95.2 secs : infill_ei\n",
      "\n"
     ]
    },
    {
     "name": "stdout",
     "output_type": "stream",
     "text": [
      "20210924 203632\t-0.638458957977879\t676\t338\t9\t5\t6966250\n"
     ]
    },
    {
     "name": "stderr",
     "output_type": "stream",
     "text": [
      "[mbo] 56: cp=-0.638; minsplit=676; minbucket=338; maxdepth=9 : y = 6.97e+06 : 202.5 secs : infill_ei\n",
      "\n",
      "Saved the current state after iteration 57 in the file ./work/E1001_rpart.RDATA.\n",
      "\n"
     ]
    },
    {
     "name": "stdout",
     "output_type": "stream",
     "text": [
      "20210924 203852\t-0.458499853871359\t888\t442\t6\t5\t8865000\n"
     ]
    },
    {
     "name": "stderr",
     "output_type": "stream",
     "text": [
      "[mbo] 57: cp=-0.458; minsplit=888; minbucket=442; maxdepth=6 : y = 8.86e+06 : 135.3 secs : infill_ei\n",
      "\n"
     ]
    },
    {
     "name": "stdout",
     "output_type": "stream",
     "text": [
      "20210924 204125\t-0.593071998364996\t1115\t555\t6\t5\t8437500\n"
     ]
    },
    {
     "name": "stderr",
     "output_type": "stream",
     "text": [
      "[mbo] 58: cp=-0.593; minsplit=1115; minbucket=555; maxdepth=6 : y = 8.44e+06 : 148.5 secs : infill_ei\n",
      "\n"
     ]
    },
    {
     "name": "stdout",
     "output_type": "stream",
     "text": [
      "20210924 204429\t-0.35978626904232\t672\t334\t6\t5\t9056250\n"
     ]
    },
    {
     "name": "stderr",
     "output_type": "stream",
     "text": [
      "[mbo] 59: cp=-0.36; minsplit=672; minbucket=334; maxdepth=6 : y = 9.06e+06 : 180.0 secs : infill_ei\n",
      "\n"
     ]
    },
    {
     "name": "stdout",
     "output_type": "stream",
     "text": [
      "20210924 204658\t-0.403762863790829\t2255\t316\t6\t5\t8738750\n"
     ]
    },
    {
     "name": "stderr",
     "output_type": "stream",
     "text": [
      "[mbo] 60: cp=-0.404; minsplit=2255; minbucket=316; maxdepth=6 : y = 8.74e+06 : 144.5 secs : infill_ei\n",
      "\n",
      "Saved the current state after iteration 61 in the file ./work/E1001_rpart.RDATA.\n",
      "\n"
     ]
    },
    {
     "name": "stdout",
     "output_type": "stream",
     "text": [
      "20210924 205012\t-0.52252892159732\t449\t224\t6\t5\t9068750\n"
     ]
    },
    {
     "name": "stderr",
     "output_type": "stream",
     "text": [
      "[mbo] 61: cp=-0.523; minsplit=449; minbucket=224; maxdepth=6 : y = 9.07e+06 : 190.8 secs : infill_ei\n",
      "\n"
     ]
    },
    {
     "name": "stdout",
     "output_type": "stream",
     "text": [
      "20210924 205234\t-0.260411898408542\t586\t290\t6\t5\t9030000\n"
     ]
    },
    {
     "name": "stderr",
     "output_type": "stream",
     "text": [
      "[mbo] 62: cp=-0.26; minsplit=586; minbucket=290; maxdepth=6 : y = 9.03e+06 : 135.9 secs : infill_ei\n",
      "\n"
     ]
    },
    {
     "name": "stdout",
     "output_type": "stream",
     "text": [
      "20210924 205513\t-0.411496676640352\t514\t257\t7\t5\t8421250\n"
     ]
    },
    {
     "name": "stderr",
     "output_type": "stream",
     "text": [
      "[mbo] 63: cp=-0.411; minsplit=514; minbucket=257; maxdepth=7 : y = 8.42e+06 : 155.0 secs : infill_ei\n",
      "\n"
     ]
    },
    {
     "name": "stdout",
     "output_type": "stream",
     "text": [
      "20210924 205718\t-0.312163837184062\t857\t426\t6\t5\t9017500\n"
     ]
    },
    {
     "name": "stderr",
     "output_type": "stream",
     "text": [
      "[mbo] 64: cp=-0.312; minsplit=857; minbucket=426; maxdepth=6 : y = 9.02e+06 : 121.7 secs : infill_ei\n",
      "\n",
      "Saved the current state after iteration 65 in the file ./work/E1001_rpart.RDATA.\n",
      "\n"
     ]
    },
    {
     "name": "stdout",
     "output_type": "stream",
     "text": [
      "20210924 205957\t-0.87995944362365\t706\t347\t5\t5\t9543750\n"
     ]
    },
    {
     "name": "stderr",
     "output_type": "stream",
     "text": [
      "[mbo] 65: cp=-0.88; minsplit=706; minbucket=347; maxdepth=5 : y = 9.54e+06 : 154.9 secs : infill_ei\n",
      "\n"
     ]
    },
    {
     "name": "stdout",
     "output_type": "stream",
     "text": [
      "20210924 210206\t-0.911990016692624\t2848\t340\t5\t5\t7840000\n"
     ]
    },
    {
     "name": "stderr",
     "output_type": "stream",
     "text": [
      "[mbo] 66: cp=-0.912; minsplit=2848; minbucket=340; maxdepth=5 : y = 7.84e+06 : 125.9 secs : infill_ei\n",
      "\n"
     ]
    },
    {
     "name": "stdout",
     "output_type": "stream",
     "text": [
      "20210924 210413\t-0.844585366173308\t241\t120\t5\t5\t9432500\n"
     ]
    },
    {
     "name": "stderr",
     "output_type": "stream",
     "text": [
      "[mbo] 67: cp=-0.845; minsplit=241; minbucket=120; maxdepth=5 : y = 9.43e+06 : 121.4 secs : infill_ei\n",
      "\n"
     ]
    },
    {
     "name": "stdout",
     "output_type": "stream",
     "text": [
      "20210924 210739\t-0.890374815457323\t8000\t935\t11\t5\t7488750\n"
     ]
    },
    {
     "name": "stderr",
     "output_type": "stream",
     "text": [
      "[mbo] 68: cp=-0.89; minsplit=8000; minbucket=935; maxdepth=11 : y = 7.49e+06 : 203.7 secs : infill_ei\n",
      "\n",
      "Saved the current state after iteration 69 in the file ./work/E1001_rpart.RDATA.\n",
      "\n"
     ]
    },
    {
     "name": "stdout",
     "output_type": "stream",
     "text": [
      "20210924 211000\t-0.850373583979123\t651\t324\t6\t5\t9007500\n"
     ]
    },
    {
     "name": "stderr",
     "output_type": "stream",
     "text": [
      "[mbo] 69: cp=-0.85; minsplit=651; minbucket=324; maxdepth=6 : y = 9.01e+06 : 134.9 secs : infill_ei\n",
      "\n"
     ]
    },
    {
     "name": "stdout",
     "output_type": "stream",
     "text": [
      "20210924 211314\t-0.999937402164431\t3176\t1586\t12\t5\t7235000\n"
     ]
    },
    {
     "name": "stderr",
     "output_type": "stream",
     "text": [
      "[mbo] 70: cp=-1; minsplit=3176; minbucket=1586; maxdepth=12 : y = 7.24e+06 : 189.3 secs : infill_ei\n",
      "\n"
     ]
    },
    {
     "name": "stdout",
     "output_type": "stream",
     "text": [
      "20210924 211454\t-0.880021016201574\t332\t163\t4\t5\t8008750\n"
     ]
    },
    {
     "name": "stderr",
     "output_type": "stream",
     "text": [
      "[mbo] 71: cp=-0.88; minsplit=332; minbucket=163; maxdepth=4 : y = 8.01e+06 : 96.5 secs : infill_ei\n",
      "\n"
     ]
    },
    {
     "name": "stdout",
     "output_type": "stream",
     "text": [
      "20210924 211650\t-0.855176015314719\t1343\t671\t5\t5\t8790000\n"
     ]
    },
    {
     "name": "stderr",
     "output_type": "stream",
     "text": [
      "[mbo] 72: cp=-0.855; minsplit=1343; minbucket=671; maxdepth=5 : y = 8.79e+06 : 111.9 secs : infill_ei\n",
      "\n"
     ]
    },
    {
     "name": "stdout",
     "output_type": "stream",
     "text": [
      "20210924 212012\t-0.267664806219083\t983\t491\t10\t5\t8257500\n"
     ]
    },
    {
     "name": "stderr",
     "output_type": "stream",
     "text": [
      "[mbo] 73: cp=-0.268; minsplit=983; minbucket=491; maxdepth=10 : y = 8.26e+06 : 198.4 secs : infill_ei\n",
      "\n",
      "Saved the current state after iteration 74 in the file ./work/E1001_rpart.RDATA.\n",
      "\n"
     ]
    },
    {
     "name": "stdout",
     "output_type": "stream",
     "text": [
      "20210924 212152\t-0.796015890706651\t663\t330\t5\t5\t9537500\n"
     ]
    },
    {
     "name": "stderr",
     "output_type": "stream",
     "text": [
      "[mbo] 74: cp=-0.796; minsplit=663; minbucket=330; maxdepth=5 : y = 9.54e+06 : 95.5 secs : infill_ei\n",
      "\n"
     ]
    },
    {
     "name": "stdout",
     "output_type": "stream",
     "text": [
      "20210924 212322\t-0.715208921093054\t5\t2\t5\t5\t8476250\n"
     ]
    },
    {
     "name": "stderr",
     "output_type": "stream",
     "text": [
      "[mbo] 75: cp=-0.715; minsplit=5; minbucket=2; maxdepth=5 : y = 8.48e+06 : 86.8 secs : infill_ei\n",
      "\n"
     ]
    },
    {
     "name": "stdout",
     "output_type": "stream",
     "text": [
      "20210924 212558\t-0.551489421957614\t2194\t1097\t11\t5\t7998750\n"
     ]
    },
    {
     "name": "stderr",
     "output_type": "stream",
     "text": [
      "[mbo] 76: cp=-0.551; minsplit=2194; minbucket=1097; maxdepth=11 : y = 8e+06 : 153.0 secs : infill_ei\n",
      "\n"
     ]
    },
    {
     "name": "stdout",
     "output_type": "stream",
     "text": [
      "20210924 212824\t-0.83004503769863\t3999\t1999\t10\t5\t7170000\n"
     ]
    },
    {
     "name": "stderr",
     "output_type": "stream",
     "text": [
      "[mbo] 77: cp=-0.83; minsplit=3999; minbucket=1999; maxdepth=10 : y = 7.17e+06 : 142.5 secs : infill_ei\n",
      "\n"
     ]
    },
    {
     "name": "stdout",
     "output_type": "stream",
     "text": [
      "20210924 213041\t-0.188459191591962\t799\t399\t5\t5\t9318750\n"
     ]
    },
    {
     "name": "stderr",
     "output_type": "stream",
     "text": [
      "[mbo] 78: cp=-0.188; minsplit=799; minbucket=399; maxdepth=5 : y = 9.32e+06 : 133.8 secs : infill_ei\n",
      "\n",
      "Saved the current state after iteration 79 in the file ./work/E1001_rpart.RDATA.\n",
      "\n"
     ]
    },
    {
     "name": "stdout",
     "output_type": "stream",
     "text": [
      "20210924 213248\t-0.546871408220647\t667\t333\t5\t5\t9537500\n"
     ]
    },
    {
     "name": "stderr",
     "output_type": "stream",
     "text": [
      "[mbo] 79: cp=-0.547; minsplit=667; minbucket=333; maxdepth=5 : y = 9.54e+06 : 122.8 secs : infill_ei\n",
      "\n"
     ]
    },
    {
     "name": "stdout",
     "output_type": "stream",
     "text": [
      "20210924 213709\t-0.872281210785225\t851\t424\t14\t5\t8412500\n"
     ]
    },
    {
     "name": "stderr",
     "output_type": "stream",
     "text": [
      "[mbo] 80: cp=-0.872; minsplit=851; minbucket=424; maxdepth=14 : y = 8.41e+06 : 256.4 secs : infill_ei\n",
      "\n"
     ]
    },
    {
     "name": "stdout",
     "output_type": "stream",
     "text": [
      "20210924 214046\t-0.457862321467367\t3946\t1969\t20\t5\t7165000\n"
     ]
    },
    {
     "name": "stderr",
     "output_type": "stream",
     "text": [
      "[mbo] 81: cp=-0.458; minsplit=3946; minbucket=1969; maxdepth=20 : y = 7.16e+06 : 212.2 secs : infill_ei\n",
      "\n",
      "Saved the current state after iteration 82 in the file ./work/E1001_rpart.RDATA.\n",
      "\n"
     ]
    },
    {
     "name": "stdout",
     "output_type": "stream",
     "text": [
      "20210924 214505\t-0.997482859814199\t1664\t828\t13\t5\t8387500\n"
     ]
    },
    {
     "name": "stderr",
     "output_type": "stream",
     "text": [
      "[mbo] 82: cp=-0.997; minsplit=1664; minbucket=828; maxdepth=13 : y = 8.39e+06 : 255.7 secs : infill_ei\n",
      "\n"
     ]
    },
    {
     "name": "stdout",
     "output_type": "stream",
     "text": [
      "20210924 214644\t-0.345259472374268\t4011\t2000\t3\t5\t6857500\n"
     ]
    },
    {
     "name": "stderr",
     "output_type": "stream",
     "text": [
      "[mbo] 83: cp=-0.345; minsplit=4011; minbucket=2000; maxdepth=3 : y = 6.86e+06 : 95.8 secs : infill_ei\n",
      "\n"
     ]
    },
    {
     "name": "stdout",
     "output_type": "stream",
     "text": [
      "20210924 214811\t-0.781472386812996\t8000\t1999\t3\t5\t6762500\n"
     ]
    },
    {
     "name": "stderr",
     "output_type": "stream",
     "text": [
      "[mbo] 84: cp=-0.781; minsplit=8000; minbucket=1999; maxdepth=3 : y = 6.76e+06 : 82.3 secs : infill_ei\n",
      "\n"
     ]
    },
    {
     "name": "stdout",
     "output_type": "stream",
     "text": [
      "20210924 215016\t-0.83674423852928\t670\t332\t5\t5\t9537500\n"
     ]
    },
    {
     "name": "stderr",
     "output_type": "stream",
     "text": [
      "[mbo] 85: cp=-0.837; minsplit=670; minbucket=332; maxdepth=5 : y = 9.54e+06 : 119.4 secs : infill_ei\n",
      "\n"
     ]
    },
    {
     "name": "stdout",
     "output_type": "stream",
     "text": [
      "20210924 215220\t-0.517479120368923\t645\t321\t5\t5\t9495000\n"
     ]
    },
    {
     "name": "stderr",
     "output_type": "stream",
     "text": [
      "[mbo] 86: cp=-0.517; minsplit=645; minbucket=321; maxdepth=5 : y = 9.5e+06 : 119.6 secs : infill_ei\n",
      "\n",
      "Saved the current state after iteration 87 in the file ./work/E1001_rpart.RDATA.\n",
      "\n"
     ]
    },
    {
     "name": "stdout",
     "output_type": "stream",
     "text": [
      "20210924 215542\t-0.367250226733244\t2913\t1452\t15\t5\t7723750\n"
     ]
    },
    {
     "name": "stderr",
     "output_type": "stream",
     "text": [
      "[mbo] 87: cp=-0.367; minsplit=2913; minbucket=1452; maxdepth=15 : y = 7.72e+06 : 196.9 secs : infill_ei\n",
      "\n"
     ]
    },
    {
     "name": "stdout",
     "output_type": "stream",
     "text": [
      "20210924 220026\t-0.785527842416015\t7992\t1\t16\t5\t7053750\n"
     ]
    },
    {
     "name": "stderr",
     "output_type": "stream",
     "text": [
      "[mbo] 88: cp=-0.786; minsplit=7992; minbucket=1; maxdepth=16 : y = 7.05e+06 : 280.4 secs : infill_ei\n",
      "\n"
     ]
    },
    {
     "name": "stdout",
     "output_type": "stream",
     "text": [
      "20210924 220328\t-0.0275356450238252\t3994\t1997\t20\t5\t7170000\n"
     ]
    },
    {
     "name": "stderr",
     "output_type": "stream",
     "text": [
      "[mbo] 89: cp=-0.0275; minsplit=3994; minbucket=1997; maxdepth=20 : y = 7.17e+06 : 178.9 secs : infill_ei\n",
      "\n",
      "Saved the current state after iteration 90 in the file ./work/E1001_rpart.RDATA.\n",
      "\n"
     ]
    },
    {
     "name": "stdout",
     "output_type": "stream",
     "text": [
      "20210924 220438\t0.0999857439952051\t1691\t837\t20\t5\t0\n"
     ]
    },
    {
     "name": "stderr",
     "output_type": "stream",
     "text": [
      "[mbo] 90: cp=0.1; minsplit=1691; minbucket=837; maxdepth=20 : y = 0 : 65.9 secs : infill_ei\n",
      "\n",
      "Saved the final state in the file ./work/E1001_rpart.RDATA\n",
      "\n"
     ]
    }
   ],
   "source": [
    "#inicio la optimizacion bayesiana\n",
    "if(!file.exists(kbayesiana)) {\n",
    "  run  <- mbo(obj.fun, learner = surr.km, control = ctrl)\n",
    "} else  run  <- mboContinue( kbayesiana )   #retomo en caso que ya exista"
   ]
  },
  {
   "cell_type": "code",
   "execution_count": 23,
   "id": "fd592624",
   "metadata": {},
   "outputs": [],
   "source": [
    "quit( save=\"no\" )"
   ]
  },
  {
   "cell_type": "code",
   "execution_count": null,
   "id": "5b559bf4",
   "metadata": {},
   "outputs": [],
   "source": []
  }
 ],
 "metadata": {
  "kernelspec": {
   "display_name": "R",
   "language": "R",
   "name": "ir"
  },
  "language_info": {
   "codemirror_mode": "r",
   "file_extension": ".r",
   "mimetype": "text/x-r-source",
   "name": "R",
   "pygments_lexer": "r",
   "version": "4.1.1"
  }
 },
 "nbformat": 4,
 "nbformat_minor": 5
}
